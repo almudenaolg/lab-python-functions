{
 "cells": [
  {
   "cell_type": "markdown",
   "id": "25d7736c-ba17-4aff-b6bb-66eba20fbf4e",
   "metadata": {},
   "source": [
    "# Lab | Functions"
   ]
  },
  {
   "cell_type": "markdown",
   "id": "0c581062-8967-4d93-b06e-62833222f930",
   "metadata": {
    "tags": []
   },
   "source": [
    "## Exercise: Managing Customer Orders with Functions\n",
    "\n",
    "In the previous exercise, you improved the code for managing customer orders by using loops and flow control. Now, let's take it a step further and refactor the code by introducing functions.\n",
    "\n",
    "Follow the steps below to complete the exercise:\n",
    "\n",
    "1. Define a function named `initialize_inventory` that takes `products` as a parameter. Inside the function, implement the code for initializing the inventory dictionary using a loop and user input.\n",
    "\n",
    "2. Define a function named `get_customer_orders` that takes no parameters. Inside the function, implement the code for prompting the user to enter the product names using a loop. The function should return the `customer_orders` set.\n",
    "\n",
    "3. Define a function named `update_inventory` that takes `customer_orders` and `inventory` as parameters. Inside the function, implement the code for updating the inventory dictionary based on the customer orders.\n",
    "\n",
    "4. Define a function named `calculate_order_statistics` that takes `customer_orders` and `products` as parameters. Inside the function, implement the code for calculating the order statistics (total products ordered, and percentage of unique products ordered). The function should return these values.\n",
    "\n",
    "5. Define a function named `print_order_statistics` that takes `order_statistics` as a parameter. Inside the function, implement the code for printing the order statistics.\n",
    "\n",
    "6. Define a function named `print_updated_inventory` that takes `inventory` as a parameter. Inside the function, implement the code for printing the updated inventory.\n",
    "\n",
    "7. Call the functions in the appropriate sequence to execute the program and manage customer orders.\n",
    "\n",
    "Hints for functions:\n",
    "\n",
    "- Consider the input parameters required for each function and their return values.\n",
    "- Utilize function parameters and return values to transfer data between functions.\n",
    "- Test your functions individually to ensure they work correctly.\n",
    "\n",
    "\n"
   ]
  },
  {
   "cell_type": "code",
   "execution_count": 16,
   "id": "ff2160c1",
   "metadata": {},
   "outputs": [
    {
     "name": "stdout",
     "output_type": "stream",
     "text": [
      "Inventory: {'t-shirt': 50, 'mug': 30, 'hat': 20, 'book': 50, 'keychain': 10}\n",
      "Sorry, no is not a valid product.\n",
      "Adding hat to customer's order.\n",
      "Adding mug to customer's order.\n",
      "Customer's order: {'mug', 'hat'}\n",
      "Total products ordered: 2\n",
      "Percentage of unique products ordered: 40.0%\n",
      "Updated inventory: {'t-shirt': 50, 'mug': 29, 'hat': 19, 'book': 50, 'keychain': 10}\n"
     ]
    }
   ],
   "source": [
    "products = [\"t-shirt\", \"mug\", \"hat\", \"book\", \"keychain\"]\n",
    "\n",
    "#1 Funtion to initialize inventory\n",
    "def initialize_inventory(products):\n",
    "    inventory = {}\n",
    "    for product in products:\n",
    "        inventory[product] = int(input(f\"Enter quantity of {product}: \"))\n",
    "    return inventory\n",
    "\n",
    "# Initialize the inventory and store it in a global variable\n",
    "inventory = initialize_inventory(products)\n",
    "print(\"Inventory:\", inventory)\n",
    "\n",
    "# Initialize the customer_orders set\n",
    "customer_orders = set()\n",
    "\n",
    "#2 Funtion to collect the user's order\n",
    "def get_customer_orders():\n",
    "    while True:\n",
    "        product = input(\"Enter a product name: \").lower()\n",
    "        \n",
    "        if product in products:\n",
    "            # Check if the product is in stock\n",
    "            if inventory[product] > 0:\n",
    "                print(f\"Adding {product} to customer's order.\")\n",
    "                customer_orders.add(product)\n",
    "            else:\n",
    "                print(f\"Sorry, {product} is out of stock.\")\n",
    "        else:\n",
    "            print(f\"Sorry, {product} is not a valid product.\")\n",
    "        \n",
    "        # Ask the user if they want to add another product\n",
    "        continue_ordering = input(\"Do you want to add another product? (yes/no): \").lower()\n",
    "        \n",
    "        if continue_ordering != \"yes\":\n",
    "            break\n",
    "    return customer_orders\n",
    "\n",
    "# Call the function to get customer orders\n",
    "customer_orders = get_customer_orders()\n",
    "print(\"Customer's order:\", customer_orders)\n",
    "\n",
    "#3 Funtion to update the inventory\n",
    "def update_inventory(customer_orders, inventory):\n",
    "    for product in customer_orders:\n",
    "        inventory[product] -= 1 #Subtract 1 from the inventory to the ordered products\n",
    "    return inventory\n",
    "\n",
    "# Call the function \n",
    "updated_inventory = update_inventory(customer_orders, inventory)\n",
    "\n",
    "#4 Funtion to calculate statistics\n",
    "def calculate_order_statistics(customer_orders, products):\n",
    "    unique_products_ordered = len(set(customer_orders))\n",
    "    percentage_unique_products = (unique_products_ordered / len(products)) * 100\n",
    "    return unique_products_ordered, percentage_unique_products\n",
    "\n",
    "# Call the function\n",
    "order_statistics = calculate_order_statistics(customer_orders, products)\n",
    "\n",
    "#5 Function to print order statistics\n",
    "def print_order_statistics(order_statistics):\n",
    "    unique_products_ordered, percentage_unique_products = order_statistics\n",
    "    print(f\"Total products ordered: {unique_products_ordered}\")\n",
    "    print(f\"Percentage of unique products ordered: {percentage_unique_products:}%\")\n",
    "\n",
    "# Call the function\n",
    "print_order_statistics(order_statistics)\n",
    "\n",
    "#6 Function to print updated inventory\n",
    "def print_updated_inventory(updated_inventory):\n",
    "    print(\"Updated inventory:\", updated_inventory)\n",
    "\n",
    "# Call the function\n",
    "print_updated_inventory(updated_inventory)"
   ]
  }
 ],
 "metadata": {
  "kernelspec": {
   "display_name": "Python 3 (ipykernel)",
   "language": "python",
   "name": "python3"
  },
  "language_info": {
   "codemirror_mode": {
    "name": "ipython",
    "version": 3
   },
   "file_extension": ".py",
   "mimetype": "text/x-python",
   "name": "python",
   "nbconvert_exporter": "python",
   "pygments_lexer": "ipython3",
   "version": "3.12.4"
  }
 },
 "nbformat": 4,
 "nbformat_minor": 5
}
